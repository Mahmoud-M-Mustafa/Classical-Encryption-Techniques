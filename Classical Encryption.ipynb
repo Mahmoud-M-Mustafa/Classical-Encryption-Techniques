{
  "nbformat": 4,
  "nbformat_minor": 0,
  "metadata": {
    "colab": {
      "name": "CSE436-Security.ipynb",
      "provenance": [],
      "collapsed_sections": []
    },
    "kernelspec": {
      "name": "python3",
      "display_name": "Python 3"
    },
    "language_info": {
      "name": "python"
    }
  },
  "cells": [
    {
      "cell_type": "markdown",
      "source": [
        "# Classical Encryption Techniques\n"
      ],
      "metadata": {
        "id": "_M7PtXdq7vH5"
      }
    },
    {
      "cell_type": "markdown",
      "metadata": {
        "id": "lpw_axv1p9XA"
      },
      "source": [
        "## Caesar cipher"
      ]
    },
    {
      "cell_type": "code",
      "metadata": {
        "id": "y1cKND6ep3ED"
      },
      "source": [
        "def caesar(plaintext,key):\n",
        "  key=key%26 \n",
        "  return \"\".join([ chr( (ord(ch)-97+key)%26+97)  for ch in plaintext.lower()])\n"
      ],
      "execution_count": 1,
      "outputs": []
    },
    {
      "cell_type": "code",
      "metadata": {
        "colab": {
          "base_uri": "https://localhost:8080/",
          "height": 35
        },
        "id": "QgkwL_Auq0hk",
        "outputId": "5c6fc7bd-1027-4844-f6b6-f25dd4694621"
      },
      "source": [
        "caesar(\"ABCDEFGHIJKLMNOPQRSTUVWXYZ\",12)"
      ],
      "execution_count": 2,
      "outputs": [
        {
          "output_type": "execute_result",
          "data": {
            "application/vnd.google.colaboratory.intrinsic+json": {
              "type": "string"
            },
            "text/plain": [
              "'mnopqrstuvwxyzabcdefghijkl'"
            ]
          },
          "metadata": {},
          "execution_count": 2
        }
      ]
    },
    {
      "cell_type": "markdown",
      "metadata": {
        "id": "qF2K28zb0usy"
      },
      "source": [
        "## Hill Cipher\n"
      ]
    },
    {
      "cell_type": "code",
      "metadata": {
        "id": "rXUh2E3O0yrJ"
      },
      "source": [
        "import numpy as np\n",
        "from math import ceil\n",
        "\n",
        "def hill(plaintext,key_matrix):\n",
        "  n= len(plaintext)\n",
        "  plaintext.replace(\" \",\"\")\n",
        "  key_matrix= np.array(key_matrix)\n",
        "  dim = key_matrix.shape\n",
        "  if dim[0] != dim[1]:\n",
        "    return \"error please input a valid matrix\"\n",
        "  if len(plaintext) % dim[0] !=0:\n",
        "    plaintext+=('z'*(dim[0] - (len(plaintext) % dim[0]) )) # append extra characters to make the matrix shaped well\n",
        "\n",
        "  plntxt_matrix = np.array([ord(ch)-97 for ch in plaintext.lower()]).reshape(ceil(len(plaintext)/dim[0]),dim[0],1)\n",
        "  result= np.zeros((ceil(len(plaintext)/dim[0]),dim[0],1))\n",
        "  for i in range(len(result)):\n",
        "    result[i]=np.matmul(key_matrix,plntxt_matrix[i])\n",
        "  \n",
        "  ciphertext=[]\n",
        "  for i in result.flatten():\n",
        "      ciphertext.append(chr(int(i%26)+97))\n",
        "\n",
        "  \n",
        "  return \"\".join(ciphertext[:n])\n",
        "\n",
        "  \n",
        "\n",
        "\n"
      ],
      "execution_count": 3,
      "outputs": []
    },
    {
      "cell_type": "code",
      "metadata": {
        "colab": {
          "base_uri": "https://localhost:8080/",
          "height": 35
        },
        "id": "0ivVrL_sHBdo",
        "outputId": "b8960c3d-7a65-46bc-b54d-fe67088f8070"
      },
      "source": [
        "hill(\"YGREBGHZ\",[[2,4,12],[9,1,6],[7,5,3]])\n"
      ],
      "execution_count": 4,
      "outputs": [
        {
          "output_type": "execute_result",
          "data": {
            "application/vnd.google.colaboratory.intrinsic+json": {
              "type": "string"
            },
            "text/plain": [
              "'qmpgvzye'"
            ]
          },
          "metadata": {},
          "execution_count": 4
        }
      ]
    },
    {
      "cell_type": "markdown",
      "metadata": {
        "id": "Xp_wlSbm00kU"
      },
      "source": [
        "## Playfair cipher"
      ]
    },
    {
      "cell_type": "code",
      "metadata": {
        "id": "-WKnAwWo03KI"
      },
      "source": [
        "import numpy as np\n",
        "#   5x5 matrix\n",
        "# [ , , , , ]\n",
        "# [ , , , , ]\n",
        "# [ , , , , ]\n",
        "# [ , , , , ]\n",
        "# [ , , , , ]\n",
        "\n",
        "\n",
        "def playfair(plaintext=\"hiwello\",key=\"key\"):\n",
        "\n",
        "\tplaintext=[c for c in plaintext]\n",
        "\t# ---preparing playfair 5x5 matrix (1)------\n",
        "\tx=[]\n",
        "\tfor i in key:\n",
        "\t\tif i=='i' or i== 'j' and 'i/j' not in x :\n",
        "\t\t\tx.append(\"i/j\")\n",
        "\t\telif i !='i' and i != 'j' :\n",
        "\t\t\tx.append(i) if i not in x else None\n",
        "\tfor i in range(97,123):\n",
        "\t\tif chr(i)=='i' or chr(i)== 'j' and 'i/j' not in x :\n",
        "\t\t\tx.append('i/j')\n",
        "\t\telif chr(i)!='i' and chr(i)!= 'j':\n",
        "\t\t\tx.append(chr(i)) if chr(i) not in x else None\n",
        "\n",
        "\n",
        "\tx=np.reshape(x,(5,5))\n",
        "\n",
        "\t#--------------------End(1)--------------------\n",
        "\n",
        "\n",
        "\t# ------plaintext preprocessing (2) -----------\n",
        "\tfor i in range(len(plaintext)-1):\n",
        "\t\tif plaintext[i] == plaintext[i+1]:\n",
        "\t\t\tplaintext.insert(i+1,'x')\n",
        "\n",
        "\n",
        "\t\n",
        "\tif len(plaintext)%2 !=0:\n",
        "\t\tplaintext.append('x')\n",
        "\n",
        "\n",
        "\tfor i in range(len(plaintext)-1):\n",
        "\t\tif plaintext[i]=='i' or plaintext[i]=='j':\n",
        "\t\t\tplaintext[i]='i/j'\n",
        "\n",
        "\t#-----------------End(2)-----------------#\n",
        "\n",
        "\t# -------- substitution part (3)---------- \n",
        "\tciphertext=\"\"\n",
        "\n",
        "\tfor i in range(0,len(plaintext)-1,2):\n",
        "\n",
        "\t\tele1=np.where(x==plaintext[i])\n",
        "\t\tele2=np.where(x==plaintext[i+1])\n",
        "\t\tif ele1[0] == ele2[0]:\n",
        "\t\t\t\n",
        "\t\t\tciphertext+= x[int(ele1[0])][int((ele1[1]+1)%5)]+\\\n",
        "\t\t   \t\t\t\tx[int(ele2[0])] [int((ele2[1]+1)%5)]\n",
        "\t\telif ele1[1] == ele2 [1]:\n",
        "\t\t\tciphertext+= x[int((ele1[0]+1)%5)][int(ele1[1])]+\\\n",
        "\t\t   \t\t\t\tx [int((ele2[0]+1)%5)][int(ele2[1])]\n",
        "\t\telse:\n",
        "\t\t\tciphertext+= x[int(ele1[0])][int(ele2[1])]+\\\n",
        "\t\t   \t\t\t\tx[int(ele2[0])][int(ele1[1])]\n",
        "\t\t#--------------------END(3)--------------------\n",
        "\n",
        "\t\n",
        "\treturn ciphertext.replace(\"i/j\",'i')\n",
        "\n",
        "\n",
        "\n",
        "\n",
        "\n"
      ],
      "execution_count": 5,
      "outputs": []
    },
    {
      "cell_type": "code",
      "source": [
        "playfair(\"shdfks\",key=\"key\")"
      ],
      "metadata": {
        "colab": {
          "base_uri": "https://localhost:8080/",
          "height": 35
        },
        "id": "URDFeOTD7UGo",
        "outputId": "833ab8fb-5467-4185-c9da-1309387446fe"
      },
      "execution_count": 6,
      "outputs": [
        {
          "output_type": "execute_result",
          "data": {
            "application/vnd.google.colaboratory.intrinsic+json": {
              "type": "string"
            },
            "text/plain": [
              "'tgfgap'"
            ]
          },
          "metadata": {},
          "execution_count": 6
        }
      ]
    },
    {
      "cell_type": "markdown",
      "metadata": {
        "id": "p0bhGv2VlVw4"
      },
      "source": [
        "## Vigenere Cipher\n"
      ]
    },
    {
      "cell_type": "code",
      "metadata": {
        "colab": {
          "base_uri": "https://localhost:8080/",
          "height": 35
        },
        "id": "AFj6tuaDldoO",
        "outputId": "cb226403-8945-4d88-e42b-edf5c3ac53ce"
      },
      "source": [
        "\n",
        "def vigenere( plaintext, key, mode):\n",
        "  n= len(plaintext)\n",
        "  key_text=\"\"\n",
        "  if mode  :\n",
        "    key_text= key+plaintext[:n-len(key)]\n",
        "  else : \n",
        "    key_text=(key* ceil(n/len(key)) )[:n]\n",
        "  \n",
        "  ciphertext=\"\"\n",
        "  for i,j in zip(plaintext,key_text):\n",
        "    ciphertext+= chr( (ord(i)-97+ord(j)-97)%26+97)\n",
        "  \n",
        "  return ciphertext\n",
        "\n",
        "vigenere(\"hiwello\",\"key\",False)\n"
      ],
      "execution_count": 7,
      "outputs": [
        {
          "output_type": "execute_result",
          "data": {
            "application/vnd.google.colaboratory.intrinsic+json": {
              "type": "string"
            },
            "text/plain": [
              "'rmuopjy'"
            ]
          },
          "metadata": {},
          "execution_count": 7
        }
      ]
    },
    {
      "cell_type": "markdown",
      "metadata": {
        "id": "MqkTFS8x04Jd"
      },
      "source": [
        "## Vernam Cipher\n",
        "\n"
      ]
    },
    {
      "cell_type": "code",
      "metadata": {
        "id": "_uA677XX08zo"
      },
      "source": [
        "def vernam(plaintext,key):\n",
        "  cipher=\"\".join([chr(((ord(i)+ord(j)-194)%26)+97) for i,j in zip(plaintext.lower(),key.lower())])\n",
        "  return cipher\n",
        "\n"
      ],
      "execution_count": 8,
      "outputs": []
    },
    {
      "cell_type": "code",
      "metadata": {
        "colab": {
          "base_uri": "https://localhost:8080/",
          "height": 35
        },
        "id": "Ykk57JmTYg9s",
        "outputId": "5afabe8f-afe6-48a2-b14d-7007399c6f18"
      },
      "source": [
        "vernam(\"hiwellobeh\",\"SPARTANS\")"
      ],
      "execution_count": 9,
      "outputs": [
        {
          "output_type": "execute_result",
          "data": {
            "application/vnd.google.colaboratory.intrinsic+json": {
              "type": "string"
            },
            "text/plain": [
              "'zxwvelbt'"
            ]
          },
          "metadata": {},
          "execution_count": 9
        }
      ]
    }
  ]
}